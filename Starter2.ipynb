{
 "cells": [
  {
   "cell_type": "code",
   "execution_count": 1,
   "metadata": {
    "collapsed": true
   },
   "outputs": [],
   "source": [
    "import numpy as np\n",
    "import pandas as pd\n",
    "import matplotlib.pyplot as plt"
   ]
  },
  {
   "cell_type": "code",
   "execution_count": 88,
   "metadata": {
    "collapsed": true
   },
   "outputs": [],
   "source": [
    "import lightgbm as lgb\n",
    "import time"
   ]
  },
  {
   "cell_type": "code",
   "execution_count": 8,
   "metadata": {
    "collapsed": true
   },
   "outputs": [],
   "source": [
    "train = pd.read_csv('train.csv')# index_col=0)\n",
    "test = pd.read_csv('test.csv')# index_col=0)"
   ]
  },
  {
   "cell_type": "code",
   "execution_count": 4,
   "metadata": {
    "collapsed": false
   },
   "outputs": [],
   "source": [
    "# obj_equal_counter = 0\n",
    "# groups_of_objects = []\n",
    "# for origin_id, item in enumerate(_train):\n",
    "#     item_counter = 0\n",
    "#     equal_list = [origin_id]\n",
    "#     for second_id,second_item in enumerate(_train):\n",
    "#         if origin_id == second_id:\n",
    "#             continue\n",
    "#         if item == second_item:\n",
    "#             item_counter+=1\n",
    "#             equal_list.append(second_id)\n",
    "            \n",
    "#     if item_counter>0:\n",
    "#         obj_equal_counter+=1\n",
    "# #         print(obj_equal_counter)\n",
    "# #         print(equal_list)\n",
    "#         groups_of_objects.append(equal_list)"
   ]
  },
  {
   "cell_type": "code",
   "execution_count": 9,
   "metadata": {
    "collapsed": true
   },
   "outputs": [],
   "source": [
    "cols = ['f190486d6', '58e2e02e6', 'eeb9cd3aa', '9fd594eec', '6eef030c1', \n",
    "              '15ace8c9f', 'fb0f5dbfe', '58e056e12', '20aa07010', '024c577b9', \n",
    "              'd6bb78916', 'b43a7cfd5', '58232a6fb', '1702b5bf0', '324921c7b', \n",
    "              '62e59a501', '2ec5b290f', '241f0f867', 'fb49e4212', '66ace2992', \n",
    "              'f74e8f13d', '5c6487af1', '963a49cdc', '26fc93eb7', '1931ccfdd', \n",
    "              '703885424', '70feb1494', '491b9ee45', '23310aa6f', 'e176a204a', \n",
    "              '6619d81fc', '1db387535', 'fc99f9426', '91f701ba2', '0572565c2', \n",
    "              '190db8488', 'adb64ff71', 'c47340d97', 'c5a231d81', '0ff32eb98']\n",
    "X = train[cols]\n",
    "_Y = train['target']"
   ]
  },
  {
   "cell_type": "code",
   "execution_count": 10,
   "metadata": {
    "collapsed": true
   },
   "outputs": [],
   "source": [
    "def _get_leak(df, cols, lag=0):\n",
    "    \"\"\" To get leak value, we do following:\n",
    "       1. Get string of all values after removing first two time steps\n",
    "       2. For all rows we shift the row by two steps and again make a string\n",
    "       3. Just find rows where string from 2 matches string from 1\n",
    "       4. Get 1st time step of row in 3 (Currently, there is additional condition to only fetch value if we got exactly one match in step 3)\"\"\"\n",
    "    series_str = df[cols[lag+2:]].apply(lambda x: \"_\".join(x.round(2).astype(str)), axis=1)\n",
    "    series_shifted_str = df[cols].shift(lag+2, axis=1)[cols[lag+2:]].apply(lambda x: \"_\".join(x.round(2).astype(str)), axis=1)\n",
    "    target_rows = series_shifted_str.apply(lambda x: np.where(x == series_str)[0])\n",
    "    target_vals = target_rows.apply(lambda x: df.loc[x[0], cols[lag]] if len(x)==1 else 0)\n",
    "    return target_vals\n",
    "\n",
    "def get_all_leak(df, cols=None, nlags=15):\n",
    "    \"\"\"\n",
    "    We just recursively fetch target value for different lags\n",
    "    \"\"\"\n",
    "    df =  df.copy()\n",
    "    \n",
    "    for i in range(nlags):\n",
    "        print(\"Processing lag {}\".format(i))\n",
    "        df[\"leaked_target_\"+str(i)] = _get_leak(df, cols, i)\n",
    "    return df"
   ]
  },
  {
   "cell_type": "code",
   "execution_count": 16,
   "metadata": {
    "collapsed": false
   },
   "outputs": [
    {
     "data": {
      "text/html": [
       "<div>\n",
       "<style scoped>\n",
       "    .dataframe tbody tr th:only-of-type {\n",
       "        vertical-align: middle;\n",
       "    }\n",
       "\n",
       "    .dataframe tbody tr th {\n",
       "        vertical-align: top;\n",
       "    }\n",
       "\n",
       "    .dataframe thead th {\n",
       "        text-align: right;\n",
       "    }\n",
       "</style>\n",
       "<table border=\"1\" class=\"dataframe\">\n",
       "  <thead>\n",
       "    <tr style=\"text-align: right;\">\n",
       "      <th></th>\n",
       "      <th>ID</th>\n",
       "      <th>target</th>\n",
       "      <th>f190486d6</th>\n",
       "      <th>58e2e02e6</th>\n",
       "      <th>eeb9cd3aa</th>\n",
       "      <th>9fd594eec</th>\n",
       "      <th>6eef030c1</th>\n",
       "      <th>15ace8c9f</th>\n",
       "      <th>fb0f5dbfe</th>\n",
       "      <th>58e056e12</th>\n",
       "      <th>...</th>\n",
       "      <th>6619d81fc</th>\n",
       "      <th>1db387535</th>\n",
       "      <th>fc99f9426</th>\n",
       "      <th>91f701ba2</th>\n",
       "      <th>0572565c2</th>\n",
       "      <th>190db8488</th>\n",
       "      <th>adb64ff71</th>\n",
       "      <th>c47340d97</th>\n",
       "      <th>c5a231d81</th>\n",
       "      <th>0ff32eb98</th>\n",
       "    </tr>\n",
       "  </thead>\n",
       "  <tbody>\n",
       "    <tr>\n",
       "      <th>0</th>\n",
       "      <td>000d6aaf2</td>\n",
       "      <td>38000000.0</td>\n",
       "      <td>1866666.66</td>\n",
       "      <td>12066666.66</td>\n",
       "      <td>700000.0</td>\n",
       "      <td>600000.0</td>\n",
       "      <td>900000.0</td>\n",
       "      <td>4100000.0</td>\n",
       "      <td>0.0</td>\n",
       "      <td>0.0</td>\n",
       "      <td>...</td>\n",
       "      <td>400000.0</td>\n",
       "      <td>0.0</td>\n",
       "      <td>0.0</td>\n",
       "      <td>5000000.0</td>\n",
       "      <td>400000.0</td>\n",
       "      <td>0.0</td>\n",
       "      <td>0.0</td>\n",
       "      <td>0.0</td>\n",
       "      <td>0.0</td>\n",
       "      <td>0.0</td>\n",
       "    </tr>\n",
       "    <tr>\n",
       "      <th>1</th>\n",
       "      <td>000fbd867</td>\n",
       "      <td>600000.0</td>\n",
       "      <td>0.00</td>\n",
       "      <td>2850000.00</td>\n",
       "      <td>2225000.0</td>\n",
       "      <td>1800000.0</td>\n",
       "      <td>800000.0</td>\n",
       "      <td>0.0</td>\n",
       "      <td>0.0</td>\n",
       "      <td>3300000.0</td>\n",
       "      <td>...</td>\n",
       "      <td>0.0</td>\n",
       "      <td>0.0</td>\n",
       "      <td>0.0</td>\n",
       "      <td>0.0</td>\n",
       "      <td>0.0</td>\n",
       "      <td>0.0</td>\n",
       "      <td>0.0</td>\n",
       "      <td>0.0</td>\n",
       "      <td>0.0</td>\n",
       "      <td>0.0</td>\n",
       "    </tr>\n",
       "    <tr>\n",
       "      <th>2</th>\n",
       "      <td>0027d6b71</td>\n",
       "      <td>10000000.0</td>\n",
       "      <td>0.00</td>\n",
       "      <td>0.00</td>\n",
       "      <td>0.0</td>\n",
       "      <td>0.0</td>\n",
       "      <td>0.0</td>\n",
       "      <td>0.0</td>\n",
       "      <td>0.0</td>\n",
       "      <td>6000000.0</td>\n",
       "      <td>...</td>\n",
       "      <td>0.0</td>\n",
       "      <td>0.0</td>\n",
       "      <td>0.0</td>\n",
       "      <td>0.0</td>\n",
       "      <td>0.0</td>\n",
       "      <td>0.0</td>\n",
       "      <td>0.0</td>\n",
       "      <td>0.0</td>\n",
       "      <td>0.0</td>\n",
       "      <td>0.0</td>\n",
       "    </tr>\n",
       "    <tr>\n",
       "      <th>3</th>\n",
       "      <td>0028cbf45</td>\n",
       "      <td>2000000.0</td>\n",
       "      <td>2000000.00</td>\n",
       "      <td>0.00</td>\n",
       "      <td>0.0</td>\n",
       "      <td>0.0</td>\n",
       "      <td>0.0</td>\n",
       "      <td>0.0</td>\n",
       "      <td>0.0</td>\n",
       "      <td>0.0</td>\n",
       "      <td>...</td>\n",
       "      <td>0.0</td>\n",
       "      <td>0.0</td>\n",
       "      <td>0.0</td>\n",
       "      <td>0.0</td>\n",
       "      <td>0.0</td>\n",
       "      <td>0.0</td>\n",
       "      <td>0.0</td>\n",
       "      <td>0.0</td>\n",
       "      <td>0.0</td>\n",
       "      <td>0.0</td>\n",
       "    </tr>\n",
       "    <tr>\n",
       "      <th>4</th>\n",
       "      <td>002a68644</td>\n",
       "      <td>14400000.0</td>\n",
       "      <td>0.00</td>\n",
       "      <td>0.00</td>\n",
       "      <td>0.0</td>\n",
       "      <td>0.0</td>\n",
       "      <td>37662000.0</td>\n",
       "      <td>0.0</td>\n",
       "      <td>4000000.0</td>\n",
       "      <td>6700000.0</td>\n",
       "      <td>...</td>\n",
       "      <td>0.0</td>\n",
       "      <td>0.0</td>\n",
       "      <td>0.0</td>\n",
       "      <td>0.0</td>\n",
       "      <td>0.0</td>\n",
       "      <td>0.0</td>\n",
       "      <td>0.0</td>\n",
       "      <td>8000000.0</td>\n",
       "      <td>0.0</td>\n",
       "      <td>0.0</td>\n",
       "    </tr>\n",
       "  </tbody>\n",
       "</table>\n",
       "<p>5 rows × 42 columns</p>\n",
       "</div>"
      ],
      "text/plain": [
       "          ID      target   f190486d6    58e2e02e6  eeb9cd3aa  9fd594eec  \\\n",
       "0  000d6aaf2  38000000.0  1866666.66  12066666.66   700000.0   600000.0   \n",
       "1  000fbd867    600000.0        0.00   2850000.00  2225000.0  1800000.0   \n",
       "2  0027d6b71  10000000.0        0.00         0.00        0.0        0.0   \n",
       "3  0028cbf45   2000000.0  2000000.00         0.00        0.0        0.0   \n",
       "4  002a68644  14400000.0        0.00         0.00        0.0        0.0   \n",
       "\n",
       "    6eef030c1  15ace8c9f  fb0f5dbfe  58e056e12    ...      6619d81fc  \\\n",
       "0    900000.0  4100000.0        0.0        0.0    ...       400000.0   \n",
       "1    800000.0        0.0        0.0  3300000.0    ...            0.0   \n",
       "2         0.0        0.0        0.0  6000000.0    ...            0.0   \n",
       "3         0.0        0.0        0.0        0.0    ...            0.0   \n",
       "4  37662000.0        0.0  4000000.0  6700000.0    ...            0.0   \n",
       "\n",
       "   1db387535  fc99f9426  91f701ba2  0572565c2  190db8488  adb64ff71  \\\n",
       "0        0.0        0.0  5000000.0   400000.0        0.0        0.0   \n",
       "1        0.0        0.0        0.0        0.0        0.0        0.0   \n",
       "2        0.0        0.0        0.0        0.0        0.0        0.0   \n",
       "3        0.0        0.0        0.0        0.0        0.0        0.0   \n",
       "4        0.0        0.0        0.0        0.0        0.0        0.0   \n",
       "\n",
       "   c47340d97  c5a231d81  0ff32eb98  \n",
       "0        0.0        0.0        0.0  \n",
       "1        0.0        0.0        0.0  \n",
       "2        0.0        0.0        0.0  \n",
       "3        0.0        0.0        0.0  \n",
       "4  8000000.0        0.0        0.0  \n",
       "\n",
       "[5 rows x 42 columns]"
      ]
     },
     "execution_count": 16,
     "metadata": {},
     "output_type": "execute_result"
    }
   ],
   "source": [
    "test[\"target\"] = train[\"target\"].mean()\n",
    "\n",
    "all_df = pd.concat([train[[\"ID\", \"target\"] + cols], test[[\"ID\", \"target\"]+ cols]]).reset_index(drop=True)\n",
    "all_df.head()"
   ]
  },
  {
   "cell_type": "code",
   "execution_count": 17,
   "metadata": {
    "collapsed": false,
    "scrolled": true
   },
   "outputs": [
    {
     "name": "stdout",
     "output_type": "stream",
     "text": [
      "Processing lag 0\n",
      "Processing lag 1\n",
      "Processing lag 2\n",
      "Processing lag 3\n",
      "Processing lag 4\n",
      "Processing lag 5\n",
      "Processing lag 6\n",
      "Processing lag 7\n",
      "Processing lag 8\n",
      "Processing lag 9\n",
      "Processing lag 10\n",
      "Processing lag 11\n",
      "Processing lag 12\n",
      "Processing lag 13\n",
      "Processing lag 14\n",
      "Processing lag 15\n",
      "Processing lag 16\n",
      "Processing lag 17\n",
      "Processing lag 18\n",
      "Processing lag 19\n",
      "Processing lag 20\n",
      "Processing lag 21\n",
      "Processing lag 22\n",
      "Processing lag 23\n",
      "Processing lag 24\n",
      "Processing lag 25\n",
      "Processing lag 26\n",
      "Processing lag 27\n",
      "Processing lag 28\n",
      "Processing lag 29\n",
      "Processing lag 30\n",
      "Processing lag 31\n",
      "Processing lag 32\n",
      "Processing lag 33\n",
      "Processing lag 34\n"
     ]
    }
   ],
   "source": [
    "NLAGS = 35 #Increasing this might help push score a bit\n",
    "all_df = get_all_leak(all_df, cols=cols, nlags=NLAGS)"
   ]
  },
  {
   "cell_type": "code",
   "execution_count": 18,
   "metadata": {
    "collapsed": false
   },
   "outputs": [
    {
     "data": {
      "text/plain": [
       "(53801, 77)"
      ]
     },
     "execution_count": 18,
     "metadata": {},
     "output_type": "execute_result"
    }
   ],
   "source": [
    "all_df.shape"
   ]
  },
  {
   "cell_type": "code",
   "execution_count": 23,
   "metadata": {
    "collapsed": false
   },
   "outputs": [],
   "source": [
    "leaky_cols = [\"leaked_target_\"+str(i) for i in range(NLAGS)]\n",
    "_train = train.join(all_df.set_index(\"ID\")[leaky_cols], on=\"ID\", how=\"left\")[leaky_cols]\n",
    "_test = test.join(all_df.set_index(\"ID\")[leaky_cols], on=\"ID\", how=\"left\")[leaky_cols]"
   ]
  },
  {
   "cell_type": "code",
   "execution_count": 34,
   "metadata": {
    "collapsed": false
   },
   "outputs": [],
   "source": [
    "# _train"
   ]
  },
  {
   "cell_type": "code",
   "execution_count": 35,
   "metadata": {
    "collapsed": false,
    "scrolled": true
   },
   "outputs": [],
   "source": [
    "# _test.mean(axis=1).sort_values(ascending=False)"
   ]
  },
  {
   "cell_type": "code",
   "execution_count": 33,
   "metadata": {
    "collapsed": true
   },
   "outputs": [],
   "source": [
    "_test.to_csv('leaked_test.csv')\n",
    "_train.to_csv('leaked_train.csv')"
   ]
  },
  {
   "cell_type": "code",
   "execution_count": 38,
   "metadata": {
    "collapsed": false
   },
   "outputs": [],
   "source": [
    "train, _train = _train, train"
   ]
  },
  {
   "cell_type": "code",
   "execution_count": 43,
   "metadata": {
    "collapsed": false
   },
   "outputs": [],
   "source": [
    "test, _test = _test, test"
   ]
  },
  {
   "cell_type": "code",
   "execution_count": 52,
   "metadata": {
    "collapsed": true
   },
   "outputs": [],
   "source": [
    "transact_cols = [f for f in _train.columns if f not in [\"ID\", \"target\"]]"
   ]
  },
  {
   "cell_type": "code",
   "execution_count": 55,
   "metadata": {
    "collapsed": false
   },
   "outputs": [],
   "source": [
    "# _train"
   ]
  },
  {
   "cell_type": "code",
   "execution_count": 54,
   "metadata": {
    "collapsed": false
   },
   "outputs": [],
   "source": [
    "_train[\"nonzero_mean\"] = _train[transact_cols].apply(lambda x: np.expm1(np.log1p(x[x!=0]).mean()), axis=1)\n",
    "_test[\"nonzero_mean\"] = _test[transact_cols].apply(lambda x: np.expm1(np.log1p(x[x!=0]).mean()), axis=1)"
   ]
  },
  {
   "cell_type": "code",
   "execution_count": 47,
   "metadata": {
    "collapsed": false
   },
   "outputs": [],
   "source": [
    "train[\"compiled_leak\"] = 0\n",
    "test[\"compiled_leak\"] = 0\n",
    "for i in range(NLAGS):\n",
    "    train.loc[train[\"compiled_leak\"] == 0, \"compiled_leak\"] = train.loc[train[\"compiled_leak\"] == 0, \"leaked_target_\"+str(i)]\n",
    "    test.loc[test[\"compiled_leak\"] == 0, \"compiled_leak\"] = test.loc[test[\"compiled_leak\"] == 0, \"leaked_target_\"+str(i)]\n",
    "    \n",
    "# print(\"Leak values found in train and test \", sum(train[\"compiled_leak\"] > 0), sum(test[\"compiled_leak\"] > 0))\n",
    "# print(\"% of correct leaks values in train \", sum(train[\"compiled_leak\"] == train[\"target\"])/sum(train[\"compiled_leak\"] > 0))\n",
    "\n",
    "# train.loc[train[\"compiled_leak\"] == 0, \"compiled_leak\"] = train.loc[train[\"compiled_leak\"] == 0, \"nonzero_mean\"]\n",
    "# test.loc[test[\"compiled_leak\"] == 0, \"compiled_leak\"] = test.loc[test[\"compiled_leak\"] == 0, \"nonzero_mean\"]"
   ]
  },
  {
   "cell_type": "code",
   "execution_count": 56,
   "metadata": {
    "collapsed": false,
    "scrolled": true
   },
   "outputs": [
    {
     "data": {
      "text/plain": [
       "0       2.858973e+06\n",
       "1       4.303261e+06\n",
       "2       2.473861e+06\n",
       "3       4.017810e+05\n",
       "4       2.567102e+06\n",
       "5       9.142987e+05\n",
       "6       1.775505e+05\n",
       "7       6.744922e+06\n",
       "8       9.671570e+04\n",
       "9       5.555020e+05\n",
       "10      2.745122e+06\n",
       "11      5.399163e+05\n",
       "12      2.189007e+05\n",
       "13      3.987345e+06\n",
       "14      8.216617e+05\n",
       "15      1.400329e+06\n",
       "16      2.249406e+05\n",
       "17      1.722384e+06\n",
       "18      1.987737e+06\n",
       "19      8.482088e+05\n",
       "20      2.271842e+06\n",
       "21      6.600102e+05\n",
       "22      1.569481e+06\n",
       "23      2.390502e+06\n",
       "24      3.010149e+05\n",
       "25      2.919159e+05\n",
       "26      3.669196e+06\n",
       "27      2.216866e+06\n",
       "28      1.806782e+06\n",
       "29      2.185246e+06\n",
       "            ...     \n",
       "4429    1.141264e+06\n",
       "4430    1.212711e+07\n",
       "4431    1.855214e+06\n",
       "4432    1.354518e+07\n",
       "4433    1.252499e+06\n",
       "4434    6.411044e+05\n",
       "4435    2.971929e+06\n",
       "4436    1.727341e+06\n",
       "4437    4.495189e+06\n",
       "4438    4.652900e+06\n",
       "4439    3.974018e+06\n",
       "4440    2.009824e+05\n",
       "4441    2.256727e+06\n",
       "4442    4.962526e+06\n",
       "4443    1.548213e+06\n",
       "4444    8.822054e+05\n",
       "4445    4.165184e+05\n",
       "4446    8.482828e+06\n",
       "4447    3.480494e+05\n",
       "4448    4.225339e+06\n",
       "4449    1.545524e+07\n",
       "4450    1.540668e+07\n",
       "4451    1.247808e+07\n",
       "4452    7.135355e+06\n",
       "4453    4.000000e+06\n",
       "4454    1.976078e+06\n",
       "4455    1.758750e+05\n",
       "4456    2.139683e+06\n",
       "4457    1.463406e+06\n",
       "4458    1.331579e+07\n",
       "Name: nonzero_mean, Length: 4459, dtype: float64"
      ]
     },
     "execution_count": 56,
     "metadata": {},
     "output_type": "execute_result"
    }
   ],
   "source": [
    "_train[\"nonzero_mean\"]"
   ]
  },
  {
   "cell_type": "code",
   "execution_count": 67,
   "metadata": {
    "collapsed": false
   },
   "outputs": [
    {
     "data": {
      "text/html": [
       "<div>\n",
       "<style scoped>\n",
       "    .dataframe tbody tr th:only-of-type {\n",
       "        vertical-align: middle;\n",
       "    }\n",
       "\n",
       "    .dataframe tbody tr th {\n",
       "        vertical-align: top;\n",
       "    }\n",
       "\n",
       "    .dataframe thead th {\n",
       "        text-align: right;\n",
       "    }\n",
       "</style>\n",
       "<table border=\"1\" class=\"dataframe\">\n",
       "  <thead>\n",
       "    <tr style=\"text-align: right;\">\n",
       "      <th></th>\n",
       "      <th>target</th>\n",
       "      <th>nonzero_mean</th>\n",
       "      <th>compiled_leak</th>\n",
       "      <th>compiled_leak_2</th>\n",
       "    </tr>\n",
       "  </thead>\n",
       "  <tbody>\n",
       "    <tr>\n",
       "      <th>target</th>\n",
       "      <td>1.000000</td>\n",
       "      <td>0.420387</td>\n",
       "      <td>0.809917</td>\n",
       "      <td>0.655617</td>\n",
       "    </tr>\n",
       "    <tr>\n",
       "      <th>nonzero_mean</th>\n",
       "      <td>0.420387</td>\n",
       "      <td>1.000000</td>\n",
       "      <td>0.313022</td>\n",
       "      <td>0.809090</td>\n",
       "    </tr>\n",
       "    <tr>\n",
       "      <th>compiled_leak</th>\n",
       "      <td>0.809917</td>\n",
       "      <td>0.313022</td>\n",
       "      <td>1.000000</td>\n",
       "      <td>0.612037</td>\n",
       "    </tr>\n",
       "    <tr>\n",
       "      <th>compiled_leak_2</th>\n",
       "      <td>0.655617</td>\n",
       "      <td>0.809090</td>\n",
       "      <td>0.612037</td>\n",
       "      <td>1.000000</td>\n",
       "    </tr>\n",
       "  </tbody>\n",
       "</table>\n",
       "</div>"
      ],
      "text/plain": [
       "                   target  nonzero_mean  compiled_leak  compiled_leak_2\n",
       "target           1.000000      0.420387       0.809917         0.655617\n",
       "nonzero_mean     0.420387      1.000000       0.313022         0.809090\n",
       "compiled_leak    0.809917      0.313022       1.000000         0.612037\n",
       "compiled_leak_2  0.655617      0.809090       0.612037         1.000000"
      ]
     },
     "execution_count": 67,
     "metadata": {},
     "output_type": "execute_result"
    }
   ],
   "source": [
    "pd.DataFrame([_train['target'], _train[\"nonzero_mean\"],  train[\"compiled_leak\"], train[\"compiled_leak_2\"]]).T.corr()"
   ]
  },
  {
   "cell_type": "code",
   "execution_count": 64,
   "metadata": {
    "collapsed": true
   },
   "outputs": [],
   "source": [
    "train[\"compiled_leak_2\"] = train[\"compiled_leak\"] \n",
    "test[\"compiled_leak_2\"] = test[\"compiled_leak\"] "
   ]
  },
  {
   "cell_type": "code",
   "execution_count": 66,
   "metadata": {
    "collapsed": false
   },
   "outputs": [],
   "source": [
    "train.loc[train[\"compiled_leak\"] == 0, \"compiled_leak_2\"] = _train.loc[train[\"compiled_leak\"] == 0, \"nonzero_mean\"]\n",
    "test.loc[test[\"compiled_leak\"] == 0, \"compiled_leak_2\"] = _test.loc[test[\"compiled_leak\"] == 0, \"nonzero_mean\"]"
   ]
  },
  {
   "cell_type": "code",
   "execution_count": null,
   "metadata": {
    "collapsed": true
   },
   "outputs": [],
   "source": []
  },
  {
   "cell_type": "code",
   "execution_count": null,
   "metadata": {
    "collapsed": true
   },
   "outputs": [],
   "source": []
  },
  {
   "cell_type": "code",
   "execution_count": 82,
   "metadata": {
    "collapsed": true
   },
   "outputs": [],
   "source": [
    "Y = _train['target']\n",
    "_Y = np.log(Y)\n",
    "ID = _train['ID']"
   ]
  },
  {
   "cell_type": "code",
   "execution_count": 73,
   "metadata": {
    "collapsed": true
   },
   "outputs": [],
   "source": [
    "data = _train\n",
    "features = transact_cols"
   ]
  },
  {
   "cell_type": "code",
   "execution_count": null,
   "metadata": {
    "collapsed": true
   },
   "outputs": [],
   "source": []
  },
  {
   "cell_type": "code",
   "execution_count": 74,
   "metadata": {
    "collapsed": true
   },
   "outputs": [],
   "source": [
    "# features = [f for f in data if f not in ['ID', 'leak', 'log_leak', 'target']]\n",
    "data.replace(0, np.nan, inplace=True)\n",
    "\n",
    "data['log_of_mean'] = np.log1p(data[features].replace(0, np.nan).mean(axis=1))\n",
    "data['mean_of_log'] = np.log1p(data[features]).replace(0, np.nan).mean(axis=1)\n",
    "data['log_of_median'] = np.log1p(data[features].replace(0, np.nan).median(axis=1))\n",
    "data['nb_nans'] = data[features].isnull().sum(axis=1)\n",
    "data['the_sum'] = np.log1p(data[features].sum(axis=1))\n",
    "data['the_std'] = data[features].std(axis=1)\n",
    "data['the_kur'] = data[features].kurtosis(axis=1)\n"
   ]
  },
  {
   "cell_type": "code",
   "execution_count": 137,
   "metadata": {
    "collapsed": false
   },
   "outputs": [
    {
     "data": {
      "text/plain": [
       "Index(['ID', 'target', '48df886f9', '0deb4b6a8', '34b15f335', 'a8cb14b00',\n",
       "       '2f0771a37', '30347e683', 'd08d1fbe3', '6ee66e115',\n",
       "       ...\n",
       "       '7e293fbaf', '9fc776466', 'nonzero_mean', 'log_of_mean', 'mean_of_log',\n",
       "       'log_of_median', 'nb_nans', 'the_sum', 'the_std', 'the_kur'],\n",
       "      dtype='object', length=5001)"
      ]
     },
     "execution_count": 137,
     "metadata": {},
     "output_type": "execute_result"
    }
   ],
   "source": [
    "data.columns"
   ]
  },
  {
   "cell_type": "code",
   "execution_count": 143,
   "metadata": {
    "collapsed": false
   },
   "outputs": [],
   "source": [
    "features = cols +  ['log_of_mean', 'mean_of_log', 'log_of_median', 'nb_nans', 'the_sum', 'the_std', 'the_kur']"
   ]
  },
  {
   "cell_type": "code",
   "execution_count": null,
   "metadata": {
    "collapsed": false
   },
   "outputs": [],
   "source": []
  },
  {
   "cell_type": "code",
   "execution_count": 144,
   "metadata": {
    "collapsed": false
   },
   "outputs": [],
   "source": [
    "X = data[features]"
   ]
  },
  {
   "cell_type": "code",
   "execution_count": 145,
   "metadata": {
    "collapsed": false
   },
   "outputs": [
    {
     "data": {
      "text/plain": [
       "Index(['f190486d6', '58e2e02e6', 'eeb9cd3aa', '9fd594eec', '6eef030c1',\n",
       "       '15ace8c9f', 'fb0f5dbfe', '58e056e12', '20aa07010', '024c577b9',\n",
       "       'd6bb78916', 'b43a7cfd5', '58232a6fb', '1702b5bf0', '324921c7b',\n",
       "       '62e59a501', '2ec5b290f', '241f0f867', 'fb49e4212', '66ace2992',\n",
       "       'f74e8f13d', '5c6487af1', '963a49cdc', '26fc93eb7', '1931ccfdd',\n",
       "       '703885424', '70feb1494', '491b9ee45', '23310aa6f', 'e176a204a',\n",
       "       '6619d81fc', '1db387535', 'fc99f9426', '91f701ba2', '0572565c2',\n",
       "       '190db8488', 'adb64ff71', 'c47340d97', 'c5a231d81', '0ff32eb98',\n",
       "       'log_of_mean', 'mean_of_log', 'log_of_median', 'nb_nans', 'the_sum',\n",
       "       'the_std', 'the_kur'],\n",
       "      dtype='object')"
      ]
     },
     "execution_count": 145,
     "metadata": {},
     "output_type": "execute_result"
    }
   ],
   "source": [
    "X.columns"
   ]
  },
  {
   "cell_type": "code",
   "execution_count": null,
   "metadata": {
    "collapsed": true
   },
   "outputs": [],
   "source": []
  },
  {
   "cell_type": "code",
   "execution_count": 146,
   "metadata": {
    "collapsed": true
   },
   "outputs": [],
   "source": [
    "from sklearn.model_selection import train_test_split"
   ]
  },
  {
   "cell_type": "code",
   "execution_count": 147,
   "metadata": {
    "collapsed": false
   },
   "outputs": [],
   "source": [
    "# train"
   ]
  },
  {
   "cell_type": "code",
   "execution_count": 148,
   "metadata": {
    "collapsed": false
   },
   "outputs": [
    {
     "name": "stderr",
     "output_type": "stream",
     "text": [
      "/home/roosh/Ridero/neural_net_env/lib/python3.5/site-packages/ipykernel/__main__.py:1: SettingWithCopyWarning: \n",
      "A value is trying to be set on a copy of a slice from a DataFrame.\n",
      "Try using .loc[row_indexer,col_indexer] = value instead\n",
      "\n",
      "See the caveats in the documentation: http://pandas.pydata.org/pandas-docs/stable/indexing.html#indexing-view-versus-copy\n",
      "  if __name__ == '__main__':\n"
     ]
    }
   ],
   "source": [
    "X['leak'] = train[\"compiled_leak\"]\n",
    "# _train[\"nonzero_mean\"],  "
   ]
  },
  {
   "cell_type": "code",
   "execution_count": 149,
   "metadata": {
    "collapsed": true
   },
   "outputs": [],
   "source": [
    "X_train, X_valid, y_train, y_valid = train_test_split(X, _Y)"
   ]
  },
  {
   "cell_type": "code",
   "execution_count": 150,
   "metadata": {
    "collapsed": true
   },
   "outputs": [],
   "source": [
    "#   print('FOLD:',fold_id)\n",
    "#     X_train = train.values[train_idx]\n",
    "#     y_train = Y.values[train_idx]\n",
    "#     X_valid = train.values[val_idx]\n",
    "#     y_valid =  Y.values[val_idx]\n",
    "    "
   ]
  },
  {
   "cell_type": "code",
   "execution_count": 200,
   "metadata": {
    "collapsed": true
   },
   "outputs": [],
   "source": [
    "\n",
    "\n",
    "# lgbm_params =  {\n",
    "#     'task': 'train',\n",
    "#     'boosting_type': 'gbdt',\n",
    "#     'objective': 'regression',\n",
    "#     'min_split_gain': np.power(10, -2.5988),\n",
    "#     'reg_alpha': np.power(10, -2.2887),\n",
    "#     'reg_lambda': np.power(10, 1.7570),\n",
    "#     'min_child_weight': np.power(10, -0.1477),\n",
    "#     'subsample': 0.6143,\n",
    "\n",
    "#     'metric': 'l2',#rmse',\n",
    "#     'max_depth': -1,\n",
    "#     'num_leaves': 2048,  # 63, 127, 255\n",
    "#     'feature_fraction': 0.8, # 0.1, 0.01\n",
    "#     'bagging_fraction': 0.8,\n",
    "#     'bagging_frequency': 10,\n",
    "#     'learning_rate': 0.001, #0.00625,#125,#0.025,#05,\n",
    "#     'verbose': 1\n",
    "# }\n",
    "\n",
    "lgbm_params = {\n",
    "   'objective': 'regression',\n",
    "        'num_leaves': 58,\n",
    "        'subsample': 0.6143,\n",
    "        'colsample_bytree': 0.6453,\n",
    "        'min_split_gain': np.power(10, -2.5988),\n",
    "        'reg_alpha': np.power(10, -2.2887),\n",
    "        'reg_lambda': np.power(10, 1.7570),\n",
    "        'min_child_weight': np.power(10, -0.1477),\n",
    "        'verbose': -1,\n",
    "        'seed': 3,\n",
    "        'boosting_type': 'gbdt',\n",
    "        'max_depth': -1,\n",
    "        'learning_rate': 0.01,\n",
    "        'metric': 'l2',\n",
    "}"
   ]
  },
  {
   "cell_type": "code",
   "execution_count": 201,
   "metadata": {
    "collapsed": false
   },
   "outputs": [
    {
     "name": "stdout",
     "output_type": "stream",
     "text": [
      "Training until validation scores don't improve for 100 rounds.\n",
      "[100]\ttrain's l2: 1.19264\tvalid's l2: 1.35472\n",
      "[200]\ttrain's l2: 0.650764\tvalid's l2: 0.810848\n",
      "[300]\ttrain's l2: 0.471349\tvalid's l2: 0.640884\n",
      "[400]\ttrain's l2: 0.392981\tvalid's l2: 0.576737\n",
      "[500]\ttrain's l2: 0.345537\tvalid's l2: 0.548827\n",
      "[600]\ttrain's l2: 0.31276\tvalid's l2: 0.53516\n",
      "[700]\ttrain's l2: 0.286405\tvalid's l2: 0.527338\n",
      "[800]\ttrain's l2: 0.264601\tvalid's l2: 0.523281\n",
      "[900]\ttrain's l2: 0.245949\tvalid's l2: 0.520657\n",
      "[1000]\ttrain's l2: 0.229715\tvalid's l2: 0.520396\n",
      "Early stopping, best iteration is:\n",
      "[969]\ttrain's l2: 0.234503\tvalid's l2: 0.519852\n",
      "fold finish after 4.122840881347656\n"
     ]
    }
   ],
   "source": [
    "lgtrain = lgb.Dataset(X_train, y_train,\n",
    "            feature_name=X.columns.tolist(),\n",
    "#             categorical_feature = categorical\n",
    "                     )\n",
    "\n",
    "lgvalid = lgb.Dataset(X_valid, y_valid,\n",
    "            feature_name=X.columns.tolist(),\n",
    "#             categorical_feature = categorical\n",
    "                     )\n",
    "\n",
    "modelstart = time.time()\n",
    "lgb_clf = lgb.train(\n",
    "    lgbm_params,\n",
    "    lgtrain,\n",
    "    num_boost_round=30000,\n",
    "    valid_sets=[lgtrain, lgvalid],\n",
    "    valid_names=['train','valid'],\n",
    "    early_stopping_rounds=100,\n",
    "    verbose_eval=100\n",
    ")\n",
    "\n",
    "test_pred = lgb_clf.predict(test.values)\n",
    "# Y_target.append(np.exp(test_pred)-1)\n",
    "print('fold finish after', time.time()-modelstart)"
   ]
  },
  {
   "cell_type": "code",
   "execution_count": 172,
   "metadata": {
    "collapsed": false
   },
   "outputs": [
    {
     "data": {
      "image/png": "[encoded data removed]",
      "text/plain": [
       "<matplotlib.figure.Figure at 0x7fc3d09837f0>"
      ]
     },
     "metadata": {},
     "output_type": "display_data"
    }
   ],
   "source": [
    "lgb.plot_importance(lgb_clf, figsize=(10,20))\n",
    "plt.show()"
   ]
  },
  {
   "cell_type": "code",
   "execution_count": 173,
   "metadata": {
    "collapsed": false
   },
   "outputs": [
    {
     "data": {
      "text/plain": [
       "Index(['f190486d6', '58e2e02e6', 'eeb9cd3aa', '9fd594eec', '6eef030c1',\n",
       "       '15ace8c9f', 'fb0f5dbfe', '58e056e12', '20aa07010', '024c577b9',\n",
       "       'd6bb78916', 'b43a7cfd5', '58232a6fb', '1702b5bf0', '324921c7b',\n",
       "       '62e59a501', '2ec5b290f', '241f0f867', 'fb49e4212', '66ace2992',\n",
       "       'f74e8f13d', '5c6487af1', '963a49cdc', '26fc93eb7', '1931ccfdd',\n",
       "       '703885424', '70feb1494', '491b9ee45', '23310aa6f', 'e176a204a',\n",
       "       '6619d81fc', '1db387535', 'fc99f9426', '91f701ba2', '0572565c2',\n",
       "       '190db8488', 'adb64ff71', 'c47340d97', 'c5a231d81', '0ff32eb98',\n",
       "       'log_of_mean', 'mean_of_log', 'log_of_median', 'nb_nans', 'the_sum',\n",
       "       'the_std', 'the_kur', 'leak'],\n",
       "      dtype='object')"
      ]
     },
     "execution_count": 173,
     "metadata": {},
     "output_type": "execute_result"
    }
   ],
   "source": [
    "X.columns"
   ]
  },
  {
   "cell_type": "code",
   "execution_count": 178,
   "metadata": {
    "collapsed": true
   },
   "outputs": [],
   "source": [
    "ID_target = _test['ID']"
   ]
  },
  {
   "cell_type": "code",
   "execution_count": 179,
   "metadata": {
    "collapsed": false
   },
   "outputs": [
    {
     "data": {
      "text/plain": [
       "Index(['48df886f9', '0deb4b6a8', '34b15f335', 'a8cb14b00', '2f0771a37',\n",
       "       '30347e683', 'd08d1fbe3', '6ee66e115', '20aa07010', 'dc5a8f1d8',\n",
       "       ...\n",
       "       '3ecc09859', '9281abeea', '8675bec0b', '3a13ed79a', 'f677d4d13',\n",
       "       '71b203550', '137efaa80', 'fb36b89d9', '7e293fbaf', '9fc776466'],\n",
       "      dtype='object', length=4991)"
      ]
     },
     "execution_count": 179,
     "metadata": {},
     "output_type": "execute_result"
    }
   ],
   "source": [
    "X_target.columns"
   ]
  },
  {
   "cell_type": "code",
   "execution_count": 180,
   "metadata": {
    "collapsed": false
   },
   "outputs": [
    {
     "ename": "NameError",
     "evalue": "name '_np' is not defined",
     "output_type": "error",
     "traceback": [
      "\u001b[0;31m---------------------------------------------------------------------------\u001b[0m",
      "\u001b[0;31mNameError\u001b[0m                                 Traceback (most recent call last)",
      "\u001b[0;32m<ipython-input-180-6ba3f4ac2930>\u001b[0m in \u001b[0;36m<module>\u001b[0;34m()\u001b[0m\n\u001b[1;32m      5\u001b[0m \u001b[0m_test\u001b[0m\u001b[0;34m[\u001b[0m\u001b[0;34m'log_of_median'\u001b[0m\u001b[0;34m]\u001b[0m \u001b[0;34m=\u001b[0m \u001b[0mnp\u001b[0m\u001b[0;34m.\u001b[0m\u001b[0mlog1p\u001b[0m\u001b[0;34m(\u001b[0m\u001b[0m_test\u001b[0m\u001b[0;34m[\u001b[0m\u001b[0mfeatures\u001b[0m\u001b[0;34m]\u001b[0m\u001b[0;34m.\u001b[0m\u001b[0mreplace\u001b[0m\u001b[0;34m(\u001b[0m\u001b[0;36m0\u001b[0m\u001b[0;34m,\u001b[0m \u001b[0mnp\u001b[0m\u001b[0;34m.\u001b[0m\u001b[0mnan\u001b[0m\u001b[0;34m)\u001b[0m\u001b[0;34m.\u001b[0m\u001b[0mmedian\u001b[0m\u001b[0;34m(\u001b[0m\u001b[0maxis\u001b[0m\u001b[0;34m=\u001b[0m\u001b[0;36m1\u001b[0m\u001b[0;34m)\u001b[0m\u001b[0;34m)\u001b[0m\u001b[0;34m\u001b[0m\u001b[0m\n\u001b[1;32m      6\u001b[0m \u001b[0m_test\u001b[0m\u001b[0;34m[\u001b[0m\u001b[0;34m'nb_nans'\u001b[0m\u001b[0;34m]\u001b[0m \u001b[0;34m=\u001b[0m \u001b[0m_test\u001b[0m\u001b[0;34m[\u001b[0m\u001b[0mfeatures\u001b[0m\u001b[0;34m]\u001b[0m\u001b[0;34m.\u001b[0m\u001b[0misnull\u001b[0m\u001b[0;34m(\u001b[0m\u001b[0;34m)\u001b[0m\u001b[0;34m.\u001b[0m\u001b[0msum\u001b[0m\u001b[0;34m(\u001b[0m\u001b[0maxis\u001b[0m\u001b[0;34m=\u001b[0m\u001b[0;36m1\u001b[0m\u001b[0;34m)\u001b[0m\u001b[0;34m\u001b[0m\u001b[0m\n\u001b[0;32m----> 7\u001b[0;31m \u001b[0m_test\u001b[0m\u001b[0;34m[\u001b[0m\u001b[0;34m'the_sum'\u001b[0m\u001b[0;34m]\u001b[0m \u001b[0;34m=\u001b[0m \u001b[0m_np\u001b[0m\u001b[0;34m.\u001b[0m\u001b[0mlog1p\u001b[0m\u001b[0;34m(\u001b[0m\u001b[0mtest\u001b[0m\u001b[0;34m[\u001b[0m\u001b[0mfeatures\u001b[0m\u001b[0;34m]\u001b[0m\u001b[0;34m.\u001b[0m\u001b[0msum\u001b[0m\u001b[0;34m(\u001b[0m\u001b[0maxis\u001b[0m\u001b[0;34m=\u001b[0m\u001b[0;36m1\u001b[0m\u001b[0;34m)\u001b[0m\u001b[0;34m)\u001b[0m\u001b[0;34m\u001b[0m\u001b[0m\n\u001b[0m\u001b[1;32m      8\u001b[0m \u001b[0m_test\u001b[0m\u001b[0;34m[\u001b[0m\u001b[0;34m'the_std'\u001b[0m\u001b[0;34m]\u001b[0m \u001b[0;34m=\u001b[0m \u001b[0m_test\u001b[0m\u001b[0;34m[\u001b[0m\u001b[0mfeatures\u001b[0m\u001b[0;34m]\u001b[0m\u001b[0;34m.\u001b[0m\u001b[0mstd\u001b[0m\u001b[0;34m(\u001b[0m\u001b[0maxis\u001b[0m\u001b[0;34m=\u001b[0m\u001b[0;36m1\u001b[0m\u001b[0;34m)\u001b[0m\u001b[0;34m\u001b[0m\u001b[0m\n\u001b[1;32m      9\u001b[0m \u001b[0m_test\u001b[0m\u001b[0;34m[\u001b[0m\u001b[0;34m'the_kur'\u001b[0m\u001b[0;34m]\u001b[0m \u001b[0;34m=\u001b[0m \u001b[0m_test\u001b[0m\u001b[0;34m[\u001b[0m\u001b[0mfeatures\u001b[0m\u001b[0;34m]\u001b[0m\u001b[0;34m.\u001b[0m\u001b[0mkurtosis\u001b[0m\u001b[0;34m(\u001b[0m\u001b[0maxis\u001b[0m\u001b[0;34m=\u001b[0m\u001b[0;36m1\u001b[0m\u001b[0;34m)\u001b[0m\u001b[0;34m\u001b[0m\u001b[0m\n",
      "\u001b[0;31mNameError\u001b[0m: name '_np' is not defined"
     ]
    }
   ],
   "source": [
    "features = transact_cols\n",
    "_test.replace(0, np.nan, inplace=True)\n",
    "_test['log_of_mean'] = np.log1p(_test[features].replace(0, np.nan).mean(axis=1))\n",
    "_test['mean_of_log'] = np.log1p(_test[features]).replace(0, np.nan).mean(axis=1)\n",
    "_test['log_of_median'] = np.log1p(_test[features].replace(0, np.nan).median(axis=1))\n",
    "_test['nb_nans'] = _test[features].isnull().sum(axis=1)\n"
   ]
  },
  {
   "cell_type": "code",
   "execution_count": 181,
   "metadata": {
    "collapsed": true
   },
   "outputs": [],
   "source": [
    "_test['the_sum'] = np.log1p(_test[features].sum(axis=1))\n",
    "_test['the_std'] = _test[features].std(axis=1)\n",
    "_test['the_kur'] = _test[features].kurtosis(axis=1)\n",
    "\n",
    "# Only use good features, log leak and stats for training"
   ]
  },
  {
   "cell_type": "code",
   "execution_count": 183,
   "metadata": {
    "collapsed": true
   },
   "outputs": [],
   "source": [
    "features = cols + [ 'log_of_mean', 'mean_of_log', 'log_of_median', 'nb_nans', 'the_sum', 'the_std', 'the_kur']"
   ]
  },
  {
   "cell_type": "code",
   "execution_count": 184,
   "metadata": {
    "collapsed": false
   },
   "outputs": [],
   "source": [
    "X_target  = _test[features ]"
   ]
  },
  {
   "cell_type": "code",
   "execution_count": 188,
   "metadata": {
    "collapsed": false
   },
   "outputs": [
    {
     "name": "stderr",
     "output_type": "stream",
     "text": [
      "/home/roosh/Ridero/neural_net_env/lib/python3.5/site-packages/ipykernel/__main__.py:1: SettingWithCopyWarning: \n",
      "A value is trying to be set on a copy of a slice from a DataFrame.\n",
      "Try using .loc[row_indexer,col_indexer] = value instead\n",
      "\n",
      "See the caveats in the documentation: http://pandas.pydata.org/pandas-docs/stable/indexing.html#indexing-view-versus-copy\n",
      "  if __name__ == '__main__':\n"
     ]
    }
   ],
   "source": [
    "X_target['leak'] = _test['compiled_leak']"
   ]
  },
  {
   "cell_type": "code",
   "execution_count": 187,
   "metadata": {
    "collapsed": false
   },
   "outputs": [
    {
     "data": {
      "text/plain": [
       "(4459, 48)"
      ]
     },
     "execution_count": 187,
     "metadata": {},
     "output_type": "execute_result"
    }
   ],
   "source": [
    "X.shape"
   ]
  },
  {
   "cell_type": "code",
   "execution_count": 202,
   "metadata": {
    "collapsed": true
   },
   "outputs": [],
   "source": [
    "Y_target = lgb_clf.predict(X_target)"
   ]
  },
  {
   "cell_type": "code",
   "execution_count": 203,
   "metadata": {
    "collapsed": false
   },
   "outputs": [
    {
     "data": {
      "text/plain": [
       "array([2091153.43568478, 1585625.95436167, 1430886.15371119, ...,\n",
       "       1899424.880632  ,  460438.83914753, 3233785.98644582])"
      ]
     },
     "execution_count": 203,
     "metadata": {},
     "output_type": "execute_result"
    }
   ],
   "source": [
    "np.expm1(Y_target)"
   ]
  },
  {
   "cell_type": "code",
   "execution_count": 204,
   "metadata": {
    "collapsed": false
   },
   "outputs": [],
   "source": [
    "sub = _test[['ID']]"
   ]
  },
  {
   "cell_type": "code",
   "execution_count": 205,
   "metadata": {
    "collapsed": false
   },
   "outputs": [
    {
     "name": "stderr",
     "output_type": "stream",
     "text": [
      "/home/roosh/Ridero/neural_net_env/lib/python3.5/site-packages/ipykernel/__main__.py:1: SettingWithCopyWarning: \n",
      "A value is trying to be set on a copy of a slice from a DataFrame.\n",
      "Try using .loc[row_indexer,col_indexer] = value instead\n",
      "\n",
      "See the caveats in the documentation: http://pandas.pydata.org/pandas-docs/stable/indexing.html#indexing-view-versus-copy\n",
      "  if __name__ == '__main__':\n"
     ]
    }
   ],
   "source": [
    "sub['target'] = np.expm1(Y_target)\n",
    "sub.to_csv('sub_lgb_leak_baseline.csv', index=False)"
   ]
  },
  {
   "cell_type": "code",
   "execution_count": 206,
   "metadata": {
    "collapsed": false
   },
   "outputs": [
    {
     "name": "stdout",
     "output_type": "stream",
     "text": [
      "ID,target\r\n",
      "000137c73,2091153.4356847827\r\n",
      "00021489f,1585625.954361666\r\n",
      "0004d7953,1430886.15371119\r\n",
      "00056a333,4996603.917734638\r\n",
      "00056d8eb,1108359.6344346404\r\n",
      "0005fc190,2291116.9960869015\r\n",
      "000787e86,1975163.5465481132\r\n",
      "0008510a0,1752775.40141742\r\n",
      "000895faf,6520267.037741122\r\n"
     ]
    }
   ],
   "source": [
    "!head sub_lgb_leak_baseline.csv"
   ]
  },
  {
   "cell_type": "code",
   "execution_count": null,
   "metadata": {
    "collapsed": true
   },
   "outputs": [],
   "source": []
  }
 ],
 "metadata": {
  "kernelspec": {
   "display_name": "Python 3",
   "language": "python",
   "name": "python3"
  },
  "language_info": {
   "codemirror_mode": {
    "name": "ipython",
    "version": 3
   },
   "file_extension": ".py",
   "mimetype": "text/x-python",
   "name": "python",
   "nbconvert_exporter": "python",
   "pygments_lexer": "ipython3",
   "version": "3.5.2"
  }
 },
 "nbformat": 4,
 "nbformat_minor": 1
}
